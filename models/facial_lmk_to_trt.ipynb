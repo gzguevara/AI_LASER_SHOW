{
 "cells": [
  {
   "cell_type": "code",
   "execution_count": null,
   "metadata": {},
   "outputs": [],
   "source": [
    "!/home/gzguevara/bin/tao-converter -h"
   ]
  },
  {
   "cell_type": "code",
   "execution_count": null,
   "metadata": {},
   "outputs": [],
   "source": [
    "#v3\n",
    "!/home/gzguevara/bin/tao-converter -k nvidia_tlt \\\n",
    "                                   -p input_face_images,1x1x80x80,1x1x80x80,1x1x80x80 \\\n",
    "                                   -c /home/gzguevara/laser/engines/int8_calibration.txt \\\n",
    "                                   -t int8 \\\n",
    "                                   -e /home/gzguevara/laser/engines/landmarks.trt \\\n",
    "                                    /home/gzguevara/laser/engines/landmarks.etlt "
   ]
  }
 ],
 "metadata": {
  "kernelspec": {
   "display_name": "Python 3",
   "language": "python",
   "name": "python3"
  },
  "language_info": {
   "codemirror_mode": {
    "name": "ipython",
    "version": 3
   },
   "file_extension": ".py",
   "mimetype": "text/x-python",
   "name": "python",
   "nbconvert_exporter": "python",
   "pygments_lexer": "ipython3",
   "version": "3.8.10"
  },
  "orig_nbformat": 4
 },
 "nbformat": 4,
 "nbformat_minor": 2
}
